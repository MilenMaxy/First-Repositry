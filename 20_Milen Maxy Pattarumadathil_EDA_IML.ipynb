{
 "cells": [
  {
   "cell_type": "code",
   "execution_count": 691,
   "id": "e5b36550",
   "metadata": {},
   "outputs": [],
   "source": [
    "# Importing whatever is necessary at the begining\n",
    "import numpy as np\n",
    "import pandas as pd\n",
    "import seaborn as sns\n",
    "import matplotlib.pyplot as plt\n",
    "from sklearn.model_selection import train_test_split\n",
    "from sklearn.preprocessing import MinMaxScaler\n",
    "from sklearn import preprocessing"
   ]
  },
  {
   "cell_type": "markdown",
   "id": "e385f318",
   "metadata": {},
   "source": [
    "### Dataset 1: Airline Travelling By Age"
   ]
  },
  {
   "cell_type": "markdown",
   "id": "a163897b",
   "metadata": {},
   "source": [
    "### To find the pattern between age and distance travelled"
   ]
  },
  {
   "cell_type": "code",
   "execution_count": 692,
   "id": "035414a3",
   "metadata": {},
   "outputs": [],
   "source": [
    "data = pd.read_csv('Airsat21.csv')\n",
    "print(\"\\t\\t\\t\\tBASIC DATAFRAME EXPLORATION : AIRLINE SATISFACTION\")\n",
    "data.head()"
   ]
  },
  {
   "cell_type": "code",
   "execution_count": 693,
   "id": "9dee1825",
   "metadata": {},
   "outputs": [],
   "source": [
    "data.tail()"
   ]
  },
  {
   "cell_type": "code",
   "execution_count": 694,
   "id": "4a3e0143",
   "metadata": {},
   "outputs": [],
   "source": [
    "data.dtypes\n"
   ]
  },
  {
   "cell_type": "code",
   "execution_count": 695,
   "id": "e0ed4f3e",
   "metadata": {},
   "outputs": [],
   "source": [
    "print(data.columns)"
   ]
  },
  {
   "cell_type": "code",
   "execution_count": 696,
   "id": "4d31a70d",
   "metadata": {},
   "outputs": [],
   "source": [
    "print(\"\\t\\t\\t\\t\\tStatistical Summary of Numeric Columns\")\n",
    "data.describe()"
   ]
  },
  {
   "cell_type": "code",
   "execution_count": 697,
   "id": "9836d30e",
   "metadata": {},
   "outputs": [],
   "source": [
    "data.Gender.value_counts()"
   ]
  },
  {
   "cell_type": "code",
   "execution_count": 698,
   "id": "52adbf66",
   "metadata": {},
   "outputs": [],
   "source": [
    "data.Customer_Type.value_counts()"
   ]
  },
  {
   "cell_type": "code",
   "execution_count": 699,
   "id": "df1d20f5",
   "metadata": {},
   "outputs": [],
   "source": [
    "data.Type_of_Travel.value_counts()"
   ]
  },
  {
   "cell_type": "code",
   "execution_count": 700,
   "id": "23971413",
   "metadata": {},
   "outputs": [],
   "source": [
    "data.Class.value_counts()"
   ]
  },
  {
   "cell_type": "code",
   "execution_count": 701,
   "id": "59466646",
   "metadata": {},
   "outputs": [],
   "source": [
    "data.satisfaction   .value_counts()"
   ]
  },
  {
   "cell_type": "code",
   "execution_count": 702,
   "id": "d0240f5c",
   "metadata": {},
   "outputs": [],
   "source": [
    "print(\"\\t\\t\\t\\t\\tData Visualisation\")"
   ]
  },
  {
   "cell_type": "code",
   "execution_count": 703,
   "id": "b4afcf8b",
   "metadata": {},
   "outputs": [],
   "source": [
    "# Univariate Histogram\n",
    "plt.figure(figsize=(8,5))\n",
    "sns.histplot(data['Age'], bins=20, kde=True)\n",
    "plt.title('Histogram of Age')\n",
    "plt.xlabel('Age')\n",
    "plt.ylabel('Frequency')\n",
    "plt.show()  # Shows age group of travellers"
   ]
  },
  {
   "cell_type": "code",
   "execution_count": 704,
   "id": "f87bc49f",
   "metadata": {},
   "outputs": [],
   "source": [
    "plt.figure(figsize=(8,5))\n",
    "sns.histplot(data['Flight_Distance'], bins=20, kde=True)\n",
    "plt.title('Histogram of Flight Distance')\n",
    "plt.xlabel('Flight_Distance')\n",
    "plt.ylabel('Frequency')\n",
    "plt.show()"
   ]
  },
  {
   "cell_type": "code",
   "execution_count": 705,
   "id": "0985a158",
   "metadata": {},
   "outputs": [],
   "source": [
    "# Univariate Pie Chart\n",
    "plt.figure(figsize=(8,5))\n",
    "data['Class'].value_counts().plot(kind='pie',autopct='%1.1f%%',colors=sns.color_palette('pastel'))\n",
    "plt.title('Pie Chart Of Class Of Travel')\n",
    "plt.ylabel('')\n",
    "plt.show()"
   ]
  },
  {
   "cell_type": "code",
   "execution_count": 706,
   "id": "df08eae0",
   "metadata": {},
   "outputs": [],
   "source": [
    "# Univariate Box Plot\n",
    "plt.figure(figsize=(8,5))\n",
    "sns.boxplot(x=data['Age'])\n",
    "plt.title('Box plot Of Age')\n",
    "plt.xlabel('Age')\n",
    "plt.show()"
   ]
  },
  {
   "cell_type": "code",
   "execution_count": 707,
   "id": "f795a0eb",
   "metadata": {},
   "outputs": [],
   "source": [
    "plt.figure(figsize=(8,5))\n",
    "sns.boxplot(x=data['Flight_Distance'])\n",
    "plt.title('Box plot Of Flight Distance')\n",
    "plt.xlabel('Flight_Distance')\n",
    "plt.show()"
   ]
  },
  {
   "cell_type": "code",
   "execution_count": 708,
   "id": "1edc425e",
   "metadata": {},
   "outputs": [],
   "source": [
    "# Bivariate Plot Line\n",
    "sns.lineplot(x='Age',y='Flight_Distance',data=data, errorbar=None)"
   ]
  },
  {
   "cell_type": "code",
   "execution_count": 709,
   "id": "d8ac9a5a",
   "metadata": {},
   "outputs": [],
   "source": [
    "plt.scatter(x='Age',y='Flight_Distance', data=data)"
   ]
  },
  {
   "cell_type": "code",
   "execution_count": 710,
   "id": "bcfde284",
   "metadata": {},
   "outputs": [],
   "source": [
    "sns.scatterplot(x='Age',y='Flight_Distance', data=data)"
   ]
  },
  {
   "cell_type": "code",
   "execution_count": 711,
   "id": "7352b56f",
   "metadata": {},
   "outputs": [],
   "source": [
    "# Bivariate Scatter Plot\n",
    "plt.figure(figsize=(10, 6))\n",
    "sns.scatterplot(x='Age', y='Flight_Distance', hue='Class', data=data)\n",
    "plt.title('Scatter Plot of Age vs Flight Distance (Colored by Class)')\n",
    "plt.xlabel('Age')\n",
    "plt.ylabel('Flight_Distance')\n",
    "plt.legend(title='Class')\n",
    "plt.show()"
   ]
  },
  {
   "cell_type": "code",
   "execution_count": 712,
   "id": "f5c3b8c4",
   "metadata": {},
   "outputs": [],
   "source": [
    "print(\"\\t\\t\\t\\t\\t\\tData Preprocessing\")"
   ]
  },
  {
   "cell_type": "code",
   "execution_count": 713,
   "id": "59fa1cc3",
   "metadata": {},
   "outputs": [],
   "source": [
    "data= data.drop(columns=['id','Customer_Type','Inflight_wifi_service','Ease_of_Online_booking','Departure/Arrival_time_convenient','Gate_location','Food_and_drink','Online_boarding','Seat_comfort','Inflight_entertainment','On-board_service','Leg_room_service','Baggage_handling','Checkin_service','Inflight_service','Cleanliness','Departure_Delay_in_Minutes','Arrival_Delay_in_Minutes'])"
   ]
  },
  {
   "cell_type": "code",
   "execution_count": 714,
   "id": "dfec6ce7",
   "metadata": {},
   "outputs": [],
   "source": [
    "data.shape"
   ]
  },
  {
   "cell_type": "code",
   "execution_count": 715,
   "id": "bacc8214",
   "metadata": {},
   "outputs": [],
   "source": [
    "data = data.dropna()\n",
    "data.shape"
   ]
  },
  {
   "cell_type": "code",
   "execution_count": 716,
   "id": "b1c07d0f",
   "metadata": {},
   "outputs": [],
   "source": [
    "data_num = data.select_dtypes(include='number')\n",
    "data_num.head() # We are moving numeric values to another variable"
   ]
  },
  {
   "cell_type": "code",
   "execution_count": 717,
   "id": "334dd983",
   "metadata": {},
   "outputs": [],
   "source": [
    "# Outlier Filter\n",
    "Q1= data_num.quantile(0.25)\n",
    "Q3= data_num.quantile(0.75)\n",
    "IQR=Q3-Q1\n",
    "lower_bound=Q1-1.5*IQR\n",
    "upper_bound=Q3+1.5*IQR"
   ]
  },
  {
   "cell_type": "code",
   "execution_count": 718,
   "id": "23014dc8",
   "metadata": {},
   "outputs": [],
   "source": [
    "lower_bound"
   ]
  },
  {
   "cell_type": "code",
   "execution_count": 719,
   "id": "736245d8",
   "metadata": {},
   "outputs": [],
   "source": [
    "upper_bound"
   ]
  },
  {
   "cell_type": "code",
   "execution_count": 720,
   "id": "80e2c1a4",
   "metadata": {},
   "outputs": [],
   "source": [
    "data = data[~((data_num < lower_bound) | (data_num > upper_bound)).any(axis=1)]"
   ]
  },
  {
   "cell_type": "code",
   "execution_count": 721,
   "id": "09e0cb65",
   "metadata": {},
   "outputs": [],
   "source": [
    "data.shape"
   ]
  },
  {
   "cell_type": "code",
   "execution_count": 722,
   "id": "19280be4",
   "metadata": {},
   "outputs": [],
   "source": [
    "sns.boxplot(x=data['Flight_Distance'])"
   ]
  },
  {
   "cell_type": "code",
   "execution_count": 723,
   "id": "c90c0322",
   "metadata": {},
   "outputs": [],
   "source": [
    "data_num = data.select_dtypes(include='number')\n",
    "data_num.head()"
   ]
  },
  {
   "cell_type": "code",
   "execution_count": 724,
   "id": "a272c71c",
   "metadata": {},
   "outputs": [],
   "source": [
    "Q1= data_num.quantile(0.25)\n",
    "Q3= data_num.quantile(0.75)\n",
    "IQR=Q3-Q1\n",
    "lower_bound=Q1-1.5*IQR\n",
    "upper_bound=Q3+1.5*IQR"
   ]
  },
  {
   "cell_type": "code",
   "execution_count": 725,
   "id": "5a01ef1a",
   "metadata": {},
   "outputs": [],
   "source": [
    "data = data[~((data_num < lower_bound) | (data_num > upper_bound)).any(axis=1)]"
   ]
  },
  {
   "cell_type": "code",
   "execution_count": 726,
   "id": "9a6c5287",
   "metadata": {},
   "outputs": [],
   "source": [
    "data.shape"
   ]
  },
  {
   "cell_type": "code",
   "execution_count": 727,
   "id": "cc1cc845",
   "metadata": {},
   "outputs": [],
   "source": [
    "sns.boxplot(x=data['Flight_Distance'])"
   ]
  },
  {
   "cell_type": "code",
   "execution_count": 728,
   "id": "ae09b77b",
   "metadata": {},
   "outputs": [],
   "source": [
    "data_num = data.select_dtypes('number')\n",
    "data_num.shape"
   ]
  },
  {
   "cell_type": "code",
   "execution_count": 729,
   "id": "af73a5a5",
   "metadata": {},
   "outputs": [],
   "source": [
    "X = data.drop('Age', axis=1)\n",
    "Y = data.Age\n",
    "X.head()"
   ]
  },
  {
   "cell_type": "code",
   "execution_count": 730,
   "id": "cd929219",
   "metadata": {},
   "outputs": [],
   "source": [
    "X_num = X.select_dtypes('number')\n",
    "X_num.head()"
   ]
  },
  {
   "cell_type": "code",
   "execution_count": 731,
   "id": "d1af95b0",
   "metadata": {},
   "outputs": [],
   "source": [
    "X_cat = X.select_dtypes('object')\n",
    "X_cat.head()"
   ]
  },
  {
   "cell_type": "code",
   "execution_count": 732,
   "id": "ace0804c",
   "metadata": {},
   "outputs": [],
   "source": [
    "# Rescaling Numeric Columns\n",
    "scaler = MinMaxScaler()\n",
    "X_num_scaled = scaler.fit_transform(X_num)\n",
    "type(X_num_scaled)"
   ]
  },
  {
   "cell_type": "code",
   "execution_count": 733,
   "id": "69bca4b8",
   "metadata": {},
   "outputs": [],
   "source": [
    "X_num_scaled = pd.DataFrame(X_num_scaled, columns=X_num.columns, index=X_num.index)  # Converting the array to dataframe"
   ]
  },
  {
   "cell_type": "code",
   "execution_count": 734,
   "id": "973802c8",
   "metadata": {},
   "outputs": [],
   "source": [
    "X_num_scaled.describe()"
   ]
  },
  {
   "cell_type": "code",
   "execution_count": 735,
   "id": "d935999c",
   "metadata": {},
   "outputs": [],
   "source": [
    "X_cat_encoded = pd.get_dummies(X_cat, drop_first=False, dtype=int)  # One Hot Code Category Columns"
   ]
  },
  {
   "cell_type": "code",
   "execution_count": 736,
   "id": "e33348c1",
   "metadata": {},
   "outputs": [],
   "source": [
    "X = pd.concat([X_num_scaled, X_cat_encoded], axis=1) # Merging data_num and data_cat into X"
   ]
  },
  {
   "cell_type": "code",
   "execution_count": 737,
   "id": "27048e86",
   "metadata": {},
   "outputs": [],
   "source": [
    " X.shape, X_num_scaled.shape, X_cat_encoded.shape"
   ]
  },
  {
   "cell_type": "code",
   "execution_count": 738,
   "id": "b74308ef",
   "metadata": {},
   "outputs": [],
   "source": [
    "print(\"\\t\\t\\t\\tChecking for NAs and Shape Compatibility\")\n",
    "print(X.isnull().sum())\n",
    "print(Y.isnull().sum())\n",
    "print(X.shape)\n",
    "print(Y.shape)"
   ]
  },
  {
   "cell_type": "code",
   "execution_count": 739,
   "id": "cceb32af",
   "metadata": {},
   "outputs": [],
   "source": [
    "X.describe()"
   ]
  },
  {
   "cell_type": "code",
   "execution_count": 740,
   "id": "b7cf44f4",
   "metadata": {},
   "outputs": [],
   "source": [
    "print(\"\\t\\t\\t\\t\\tTrain-Test Split\")\n",
    "X_train, X_test, Y_train, Y_test = train_test_split(X, Y, test_size=0.2, random_state=42)\n",
    "print(\"X train:\",X_train.shape)\n",
    "print(\"X test:\",X_test.shape)\n",
    "print(\"Y train:\",Y_train.shape) \n",
    "print(\"Y test:\",Y_test.shape)"
   ]
  },
  {
   "cell_type": "markdown",
   "id": "9c82ad69",
   "metadata": {},
   "source": [
    "### Dataset 2: Bangalore Housing (Prices)"
   ]
  },
  {
   "cell_type": "markdown",
   "id": "3782a1ba",
   "metadata": {},
   "source": [
    "### To find the pattern in pricing trends in accordance to the number of rooms"
   ]
  },
  {
   "cell_type": "code",
   "execution_count": 741,
   "id": "dbd5880f",
   "metadata": {},
   "outputs": [],
   "source": [
    "bhk = pd.read_csv('BangaloreHousing.csv')\n",
    "print(\"\\t\\t\\t\\tBASIC DATAFRAME EXPLORATION : BANGALORE HOUSING - PRICES\")\n",
    "bhk.head()"
   ]
  },
  {
   "cell_type": "code",
   "execution_count": 742,
   "id": "5bf63264",
   "metadata": {},
   "outputs": [],
   "source": [
    "bhk.tail()"
   ]
  },
  {
   "cell_type": "code",
   "execution_count": 743,
   "id": "a3a61fd7",
   "metadata": {},
   "outputs": [],
   "source": [
    "bhk.shape"
   ]
  },
  {
   "cell_type": "code",
   "execution_count": 744,
   "id": "3a7ee3c6",
   "metadata": {},
   "outputs": [],
   "source": [
    "bhk.dtypes"
   ]
  },
  {
   "cell_type": "code",
   "execution_count": 745,
   "id": "291ffe7a",
   "metadata": {},
   "outputs": [],
   "source": [
    "print(bhk.columns)"
   ]
  },
  {
   "cell_type": "code",
   "execution_count": 746,
   "id": "624b075d",
   "metadata": {},
   "outputs": [],
   "source": [
    "print(\"\\t\\t\\t\\t\\tStatistical Summary of Numeric Columns\")\n",
    "bhk.describe()"
   ]
  },
  {
   "cell_type": "code",
   "execution_count": 747,
   "id": "bd9e53b9",
   "metadata": {},
   "outputs": [],
   "source": [
    "bhk.Price.value_counts()"
   ]
  },
  {
   "cell_type": "code",
   "execution_count": 748,
   "id": "5af43be1",
   "metadata": {},
   "outputs": [],
   "source": [
    "bhk.Area.value_counts()"
   ]
  },
  {
   "cell_type": "code",
   "execution_count": 749,
   "id": "ca76669c",
   "metadata": {},
   "outputs": [],
   "source": [
    "bhk.No_of_Bedrooms.value_counts()"
   ]
  },
  {
   "cell_type": "code",
   "execution_count": 750,
   "id": "d26642de",
   "metadata": {},
   "outputs": [],
   "source": [
    "bhk.MaintenanceStaff .value_counts()"
   ]
  },
  {
   "cell_type": "code",
   "execution_count": 751,
   "id": "26c2ff4b",
   "metadata": {},
   "outputs": [],
   "source": [
    "bhk.Gymnasium .value_counts()"
   ]
  },
  {
   "cell_type": "code",
   "execution_count": 752,
   "id": "6259075b",
   "metadata": {},
   "outputs": [],
   "source": [
    "bhk.RainWaterHarvesting.value_counts()"
   ]
  },
  {
   "cell_type": "code",
   "execution_count": 753,
   "id": "d7a40ca1",
   "metadata": {},
   "outputs": [],
   "source": [
    "bhk.IndoorGames.value_counts()"
   ]
  },
  {
   "cell_type": "code",
   "execution_count": 754,
   "id": "54878580",
   "metadata": {},
   "outputs": [],
   "source": [
    "bhk.ATM.value_counts()"
   ]
  },
  {
   "cell_type": "code",
   "execution_count": 755,
   "id": "2daf1b86",
   "metadata": {},
   "outputs": [],
   "source": [
    "bhk.ClubHouse.value_counts()"
   ]
  },
  {
   "cell_type": "code",
   "execution_count": 756,
   "id": "09d110dd",
   "metadata": {},
   "outputs": [],
   "source": [
    "bhk.School.value_counts()"
   ]
  },
  {
   "cell_type": "code",
   "execution_count": 757,
   "id": "373423e4",
   "metadata": {},
   "outputs": [],
   "source": [
    "bhk.Security.value_counts()"
   ]
  },
  {
   "cell_type": "code",
   "execution_count": 758,
   "id": "d9886257",
   "metadata": {},
   "outputs": [],
   "source": [
    "bhk.PowerBackup.value_counts()"
   ]
  },
  {
   "cell_type": "code",
   "execution_count": 759,
   "id": "bae6f73e",
   "metadata": {},
   "outputs": [],
   "source": [
    "print(\"\\t\\t\\t\\t\\tData Visualisation\")"
   ]
  },
  {
   "cell_type": "code",
   "execution_count": 760,
   "id": "1e510656",
   "metadata": {},
   "outputs": [],
   "source": [
    "# Univariate Histogram\n",
    "plt.figure(figsize=(8,5))\n",
    "sns.histplot(bhk['Price'], bins=20, kde=True)\n",
    "plt.title('Histogram of Price')\n",
    "plt.xlabel('Price')\n",
    "plt.ylabel('Frequency')\n",
    "plt.show()  # Shows age group of travellers"
   ]
  },
  {
   "cell_type": "code",
   "execution_count": 761,
   "id": "bddd48f9",
   "metadata": {},
   "outputs": [],
   "source": [
    "plt.figure(figsize=(8,5))\n",
    "sns.histplot(bhk['No_of_Bedrooms'], bins=5, kde=True)\n",
    "plt.title('Histogram of Rooms')\n",
    "plt.xlabel('No_of_Bedrooms')\n",
    "plt.ylabel('Frequency')\n",
    "plt.show()"
   ]
  },
  {
   "cell_type": "code",
   "execution_count": 762,
   "id": "ce23cb79",
   "metadata": {},
   "outputs": [],
   "source": [
    "plt.figure(figsize=(8,5))\n",
    "sns.histplot(bhk['Security'], bins=10, kde=True)\n",
    "plt.title('Histogram of Security')\n",
    "plt.xlabel('Security')\n",
    "plt.ylabel('Frequency')\n",
    "plt.show()"
   ]
  },
  {
   "cell_type": "code",
   "execution_count": 763,
   "id": "c2507fd9",
   "metadata": {},
   "outputs": [],
   "source": [
    "# Univariate Pie Chart\n",
    "plt.figure(figsize=(8,10))\n",
    "bhk['No_of_Bedrooms'].value_counts().plot(kind='pie',autopct='%1.1f%%',colors=sns.color_palette(''))\n",
    "plt.title('Pie Chart Of No. of Bedrooms ')\n",
    "plt.ylabel('')\n",
    "plt.show()"
   ]
  },
  {
   "cell_type": "code",
   "execution_count": null,
   "id": "85b9eda3",
   "metadata": {},
   "outputs": [],
   "source": [
    "# Univariate Box Plot\n",
    "plt.figure(figsize=(8,5))\n",
    "sns.boxplot(x=bhk['Price'])\n",
    "plt.title('Box plot Of Price')\n",
    "plt.xlabel('Price')\n",
    "plt.show()"
   ]
  },
  {
   "cell_type": "code",
   "execution_count": null,
   "id": "4d0eafef",
   "metadata": {},
   "outputs": [],
   "source": [
    "plt.figure(figsize=(8,5))\n",
    "sns.boxplot(x=bhk['No_of_Bedrooms'])\n",
    "plt.title('Box plot Of No_of_Bedroom')\n",
    "plt.xlabel('No_of_Bedrooms')\n",
    "plt.show()"
   ]
  },
  {
   "cell_type": "code",
   "execution_count": null,
   "id": "297f7b47",
   "metadata": {},
   "outputs": [],
   "source": [
    "# Bivariate Plot Line\n",
    "sns.lineplot(x='Price',y='No_of_Bedrooms',data=bhk, errorbar=None)"
   ]
  },
  {
   "cell_type": "code",
   "execution_count": null,
   "id": "05fc2b6e",
   "metadata": {},
   "outputs": [],
   "source": [
    "plt.scatter(x='Price',y='No_of_Bedrooms', data=bhk)"
   ]
  },
  {
   "cell_type": "code",
   "execution_count": null,
   "id": "931d0b68",
   "metadata": {},
   "outputs": [],
   "source": [
    "sns.scatterplot(x='Price',y='No_of_Bedrooms', data=bhk)"
   ]
  },
  {
   "cell_type": "code",
   "execution_count": null,
   "id": "cb7df99b",
   "metadata": {},
   "outputs": [],
   "source": [
    "# Bivariate Scatter Plot\n",
    "plt.figure(figsize=(10, 6))\n",
    "sns.scatterplot(x='Price', y='No_of_Bedrooms', hue='Security', data=bhk)\n",
    "plt.title('Scatter Plot of Price vs No. of Bedrooms (Colored by Security)')\n",
    "plt.xlabel('Price')\n",
    "plt.ylabel('No_of_Bedrooms')\n",
    "plt.legend(title='Security')\n",
    "plt.show()"
   ]
  },
  {
   "cell_type": "code",
   "execution_count": null,
   "id": "6ee32f99",
   "metadata": {},
   "outputs": [],
   "source": [
    "print(\"\\t\\t\\t\\t\\t\\tData Preprocessing\")"
   ]
  },
  {
   "cell_type": "code",
   "execution_count": null,
   "id": "913a9ffa",
   "metadata": {},
   "outputs": [],
   "source": [
    "bhk = bhk.drop(columns=['Gymnasium','SwimmingPool','RainWaterHarvesting','IndoorGames','ATM','ClubHouse'])    \n",
    "bhk.shape"
   ]
  },
  {
   "cell_type": "code",
   "execution_count": null,
   "id": "d38fe9f8",
   "metadata": {},
   "outputs": [],
   "source": [
    "bhk = bhk.dropna()\n",
    "bhk.shape"
   ]
  },
  {
   "cell_type": "code",
   "execution_count": null,
   "id": "5f1c8007",
   "metadata": {},
   "outputs": [],
   "source": [
    "bhk_num = bhk.select_dtypes(include='number')\n",
    "bhk_num.head() # If outliers are not eliminated in first try, repeat from here."
   ]
  },
  {
   "cell_type": "code",
   "execution_count": null,
   "id": "6dc30444",
   "metadata": {},
   "outputs": [],
   "source": [
    "Q1 = bhk_num.quantile(0.25)  # Outlier\n",
    "Q3 = bhk_num.quantile(0.75)\n",
    "IQR = Q3 - Q1\n",
    "lower = Q1 - 1.5 * IQR\n",
    "upper = Q3 + 1.5 * IQR"
   ]
  },
  {
   "cell_type": "code",
   "execution_count": null,
   "id": "118d4f47",
   "metadata": {},
   "outputs": [],
   "source": [
    "lower"
   ]
  },
  {
   "cell_type": "code",
   "execution_count": null,
   "id": "6bb0cb22",
   "metadata": {},
   "outputs": [],
   "source": [
    "upper"
   ]
  },
  {
   "cell_type": "code",
   "execution_count": null,
   "id": "e9330193",
   "metadata": {},
   "outputs": [],
   "source": [
    "bhk = bhk[~((bhk_num < lower) | (bhk_num > upper).any(axis=1))]"
   ]
  },
  {
   "cell_type": "code",
   "execution_count": null,
   "id": "9526341f",
   "metadata": {},
   "outputs": [],
   "source": [
    "bhk.shape"
   ]
  },
  {
   "cell_type": "code",
   "execution_count": null,
   "id": "931b0607",
   "metadata": {},
   "outputs": [],
   "source": [
    "sns.boxplot(x=bhk['Price'])"
   ]
  },
  {
   "cell_type": "code",
   "execution_count": null,
   "id": "79ecda24",
   "metadata": {},
   "outputs": [],
   "source": [
    "bhk_num = bhk.select_dtypes(include='number')\n",
    "bhk_num.head()\n"
   ]
  },
  {
   "cell_type": "code",
   "execution_count": null,
   "id": "9cf80371",
   "metadata": {},
   "outputs": [],
   "source": [
    "Q1 = bhk_num.quantile(0.25)  # Outlier\n",
    "Q3 = bhk_num.quantile(0.75)\n",
    "IQR = Q3 - Q1\n",
    "lower = Q1 - 1.5 * IQR\n",
    "upper = Q3 + 1.5 * IQR"
   ]
  },
  {
   "cell_type": "code",
   "execution_count": null,
   "id": "9939ba50",
   "metadata": {},
   "outputs": [],
   "source": [
    "bhk = bhk[~((bhk_num < lower) | (bhk_num > upper).any(axis=1))]"
   ]
  },
  {
   "cell_type": "code",
   "execution_count": null,
   "id": "f5a40ef9",
   "metadata": {},
   "outputs": [],
   "source": [
    "bhk.shape"
   ]
  },
  {
   "cell_type": "code",
   "execution_count": null,
   "id": "ed2c25a2",
   "metadata": {},
   "outputs": [],
   "source": [
    "bhk_num = bhk.select_dtypes(include='number')\n",
    "bhk_num.head()"
   ]
  },
  {
   "cell_type": "code",
   "execution_count": null,
   "id": "f24d398f",
   "metadata": {},
   "outputs": [],
   "source": [
    "Q1 = bhk_num.quantile(0.25)  # Outlier\n",
    "Q3 = bhk_num.quantile(0.75)\n",
    "IQR = Q3 - Q1\n",
    "lower = Q1 - 1.5 * IQR\n",
    "upper = Q3 + 1.5 * IQR"
   ]
  },
  {
   "cell_type": "code",
   "execution_count": null,
   "id": "1f5b76aa",
   "metadata": {},
   "outputs": [],
   "source": [
    "upper"
   ]
  },
  {
   "cell_type": "code",
   "execution_count": null,
   "id": "86f3261f",
   "metadata": {},
   "outputs": [],
   "source": [
    "bhk = bhk[~((bhk_num < lower) | (bhk_num > upper).any(axis=1))]"
   ]
  },
  {
   "cell_type": "code",
   "execution_count": null,
   "id": "0f4861ce",
   "metadata": {},
   "outputs": [],
   "source": [
    "sns.boxplot(x=bhk['Price'])"
   ]
  },
  {
   "cell_type": "code",
   "execution_count": null,
   "id": "afb4cda6",
   "metadata": {},
   "outputs": [],
   "source": [
    "bhk_num = bhk.select_dtypes(include='number')\n",
    "bhk_num.head()"
   ]
  },
  {
   "cell_type": "code",
   "execution_count": null,
   "id": "9786daec",
   "metadata": {},
   "outputs": [],
   "source": [
    "Q1 = bhk_num.quantile(0.25)  # Outlier\n",
    "Q3 = bhk_num.quantile(0.75)\n",
    "IQR = Q3 - Q1\n",
    "lower = Q1 - 1.5 * IQR\n",
    "upper = Q3 + 1.5 * IQR"
   ]
  },
  {
   "cell_type": "code",
   "execution_count": null,
   "id": "b25d8ded",
   "metadata": {},
   "outputs": [],
   "source": [
    "bhk = bhk[~((bhk_num < lower) | (bhk_num > upper)).any(axis=1)]"
   ]
  },
  {
   "cell_type": "code",
   "execution_count": null,
   "id": "b9abcee5",
   "metadata": {},
   "outputs": [],
   "source": [
    "sns.boxplot(x=bhk['Price'])"
   ]
  },
  {
   "cell_type": "code",
   "execution_count": null,
   "id": "d7b6c868",
   "metadata": {},
   "outputs": [],
   "source": [
    "bhk_num = bhk.select_dtypes(include='number')\n",
    "bhk_num.head()"
   ]
  },
  {
   "cell_type": "code",
   "execution_count": null,
   "id": "8723059e",
   "metadata": {},
   "outputs": [],
   "source": [
    "Q1 = bhk_num.quantile(0.25)  # Outlier\n",
    "Q3 = bhk_num.quantile(0.75)\n",
    "IQR = Q3 - Q1\n",
    "lower = Q1 - 1.5 * IQR\n",
    "upper = Q3 + 1.5 * IQR"
   ]
  },
  {
   "cell_type": "code",
   "execution_count": null,
   "id": "2d43c221",
   "metadata": {},
   "outputs": [],
   "source": [
    "bhk = bhk[~((bhk_num < lower) | (bhk_num > upper)).any(axis=1)]"
   ]
  },
  {
   "cell_type": "code",
   "execution_count": null,
   "id": "0d7d65af",
   "metadata": {},
   "outputs": [],
   "source": [
    "sns.boxplot(x=bhk['Price'])"
   ]
  },
  {
   "cell_type": "code",
   "execution_count": null,
   "id": "d600bb20",
   "metadata": {},
   "outputs": [],
   "source": [
    "bhk_num = bhk.select_dtypes(include='number')\n",
    "bhk_num.head()"
   ]
  },
  {
   "cell_type": "code",
   "execution_count": null,
   "id": "2b58a3fe",
   "metadata": {},
   "outputs": [],
   "source": [
    "Q1 = bhk_num.quantile(0.25)  # Outlier\n",
    "Q3 = bhk_num.quantile(0.75)\n",
    "IQR = Q3 - Q1\n",
    "lower = Q1 - 1.5 * IQR\n",
    "upper = Q3 + 1.5 * IQR"
   ]
  },
  {
   "cell_type": "code",
   "execution_count": null,
   "id": "4058b012",
   "metadata": {},
   "outputs": [],
   "source": [
    "bhk = bhk[~((bhk_num < lower) | (bhk_num > upper)).any(axis=1)]"
   ]
  },
  {
   "cell_type": "code",
   "execution_count": null,
   "id": "2e17b940",
   "metadata": {},
   "outputs": [],
   "source": [
    "sns.boxplot(x=bhk['Price'])"
   ]
  },
  {
   "cell_type": "code",
   "execution_count": null,
   "id": "e6663a76",
   "metadata": {},
   "outputs": [],
   "source": [
    "bhk_num = bhk.select_dtypes('number')\n",
    "bhk_num.shape"
   ]
  },
  {
   "cell_type": "code",
   "execution_count": null,
   "id": "6ef73646",
   "metadata": {},
   "outputs": [],
   "source": [
    "bhk_num = bhk.select_dtypes(include='number')\n",
    "bhk_num.head()"
   ]
  },
  {
   "cell_type": "code",
   "execution_count": null,
   "id": "b0e79c39",
   "metadata": {},
   "outputs": [],
   "source": [
    "Q1 = bhk_num.quantile(0.25)  # Outlier\n",
    "Q3 = bhk_num.quantile(0.75)\n",
    "IQR = Q3 - Q1\n",
    "lower = Q1 - 1.5 * IQR\n",
    "upper = Q3 + 1.5 * IQR"
   ]
  },
  {
   "cell_type": "code",
   "execution_count": null,
   "id": "d7b3385b",
   "metadata": {},
   "outputs": [],
   "source": [
    "bhk = bhk[~((bhk_num < lower) | (bhk_num > upper)).any(axis=1)]"
   ]
  },
  {
   "cell_type": "code",
   "execution_count": null,
   "id": "ea10cf95",
   "metadata": {},
   "outputs": [],
   "source": [
    "sns.boxplot(x=bhk['Price'])"
   ]
  },
  {
   "cell_type": "code",
   "execution_count": null,
   "id": "c330cdd2",
   "metadata": {},
   "outputs": [],
   "source": [
    "bhk_num = bhk.select_dtypes(include='number')\n",
    "bhk_num.head()"
   ]
  },
  {
   "cell_type": "code",
   "execution_count": null,
   "id": "f21938f1",
   "metadata": {},
   "outputs": [],
   "source": [
    "Q1 = bhk_num.quantile(0.25)  # Outlier\n",
    "Q3 = bhk_num.quantile(0.75)\n",
    "IQR = Q3 - Q1\n",
    "lower = Q1 - 1.5 * IQR\n",
    "upper = Q3 + 1.5 * IQR"
   ]
  },
  {
   "cell_type": "code",
   "execution_count": null,
   "id": "5ee09440",
   "metadata": {},
   "outputs": [],
   "source": [
    "bhk = bhk[~((bhk_num < lower) | (bhk_num > upper)).any(axis=1)]"
   ]
  },
  {
   "cell_type": "code",
   "execution_count": null,
   "id": "293a7f8a",
   "metadata": {},
   "outputs": [],
   "source": [
    "sns.boxplot(x=bhk['Price'])"
   ]
  },
  {
   "cell_type": "code",
   "execution_count": null,
   "id": "0c00fd40",
   "metadata": {},
   "outputs": [],
   "source": [
    "X = bhk.drop('Price', axis=1)\n",
    "Y = bhk.Price\n",
    "X.head()"
   ]
  },
  {
   "cell_type": "code",
   "execution_count": null,
   "id": "18f78a38",
   "metadata": {},
   "outputs": [],
   "source": [
    "X_num = X.select_dtypes('number')\n",
    "X_num.head()"
   ]
  },
  {
   "cell_type": "code",
   "execution_count": null,
   "id": "aae296f8",
   "metadata": {},
   "outputs": [],
   "source": [
    "X_cat = X.select_dtypes('object')\n",
    "X_cat.head()"
   ]
  },
  {
   "cell_type": "code",
   "execution_count": null,
   "id": "325c61a9",
   "metadata": {},
   "outputs": [],
   "source": [
    "# Rescaling Numeric Columns\n",
    "scaler = MinMaxScaler()\n",
    "X_num_scaled = scaler.fit_transform(X_num)\n",
    "type(X_num_scaled)"
   ]
  },
  {
   "cell_type": "code",
   "execution_count": null,
   "id": "95151376",
   "metadata": {},
   "outputs": [],
   "source": [
    "X_num_scaled = pd.DataFrame(X_num_scaled, columns=X_num.columns, index=X_num.index)"
   ]
  },
  {
   "cell_type": "code",
   "execution_count": null,
   "id": "4a778431",
   "metadata": {},
   "outputs": [],
   "source": [
    "X_num_scaled.describe()"
   ]
  },
  {
   "cell_type": "code",
   "execution_count": null,
   "id": "4b6b14d9",
   "metadata": {},
   "outputs": [],
   "source": [
    "X_cat_encoded = pd.get_dummies(X_cat, drop_first=False, dtype=int)  # One Hot Code Category Columns"
   ]
  },
  {
   "cell_type": "code",
   "execution_count": null,
   "id": "095ae28d",
   "metadata": {},
   "outputs": [],
   "source": [
    "X = pd.concat([X_num_scaled, X_cat_encoded], axis=1)"
   ]
  },
  {
   "cell_type": "code",
   "execution_count": null,
   "id": "d2e1506e",
   "metadata": {},
   "outputs": [],
   "source": [
    " X.shape, X_num_scaled.shape, X_cat_encoded.shape"
   ]
  },
  {
   "cell_type": "code",
   "execution_count": null,
   "id": "5e78a05b",
   "metadata": {},
   "outputs": [],
   "source": [
    "print(\"\\t\\t\\t\\tChecking for NAs and Shape Compatibility\")\n",
    "print(X.isnull().sum())\n",
    "print(Y.isnull().sum())\n",
    "print(X.shape)\n",
    "print(Y.shape)"
   ]
  },
  {
   "cell_type": "code",
   "execution_count": null,
   "id": "90606786",
   "metadata": {},
   "outputs": [],
   "source": [
    "X.describe()"
   ]
  },
  {
   "cell_type": "code",
   "execution_count": null,
   "id": "0c252fb4",
   "metadata": {},
   "outputs": [],
   "source": [
    "print(\"\\t\\t\\t\\t\\tTrain-Test Split\")\n",
    "X_train, X_test, Y_train, Y_test = train_test_split(X, Y, test_size=0.2, random_state=42)\n",
    "print(\"X train:\",X_train.shape)\n",
    "print(\"X test:\",X_test.shape)\n",
    "print(\"Y train:\",Y_train.shape) \n",
    "print(\"Y test:\",Y_test.shape)"
   ]
  },
  {
   "cell_type": "code",
   "execution_count": null,
   "id": "9343dd24",
   "metadata": {},
   "outputs": [],
   "source": []
  },
  {
   "cell_type": "code",
   "execution_count": null,
   "id": "a1e0293c",
   "metadata": {},
   "outputs": [],
   "source": []
  },
  {
   "cell_type": "markdown",
   "id": "5aca7dc2",
   "metadata": {},
   "source": [
    "### Dataset 3 : Cigars"
   ]
  },
  {
   "cell_type": "markdown",
   "id": "86ddb874",
   "metadata": {},
   "source": [
    "### To find the pattern between cigar prices and sales"
   ]
  },
  {
   "cell_type": "code",
   "execution_count": null,
   "id": "7605070f",
   "metadata": {},
   "outputs": [],
   "source": [
    "cgr = pd.read_csv('Cigar.csv')\n",
    "print(\"\\t\\t\\t\\tBASIC DATAFRAME EXPLORATION : Cigars\")\n",
    "cgr.head()"
   ]
  },
  {
   "cell_type": "code",
   "execution_count": null,
   "id": "aa094223",
   "metadata": {},
   "outputs": [],
   "source": [
    "cgr.tail()"
   ]
  },
  {
   "cell_type": "code",
   "execution_count": null,
   "id": "fea4344b",
   "metadata": {},
   "outputs": [],
   "source": [
    "cgr.dtypes"
   ]
  },
  {
   "cell_type": "code",
   "execution_count": null,
   "id": "71710a9e",
   "metadata": {},
   "outputs": [],
   "source": [
    "cgr.shape"
   ]
  },
  {
   "cell_type": "code",
   "execution_count": null,
   "id": "46e6abd7",
   "metadata": {},
   "outputs": [],
   "source": [
    "print(cgr.columns)"
   ]
  },
  {
   "cell_type": "code",
   "execution_count": null,
   "id": "32f7d062",
   "metadata": {},
   "outputs": [],
   "source": [
    "print(\"\\t\\t\\t\\tStep 2: Summary Statistics of Numeric Columns\")\n",
    "cgr.describe()"
   ]
  },
  {
   "cell_type": "code",
   "execution_count": null,
   "id": "24c0c086",
   "metadata": {},
   "outputs": [],
   "source": [
    "cgr.Num.value_counts()"
   ]
  },
  {
   "cell_type": "code",
   "execution_count": null,
   "id": "ca8d2021",
   "metadata": {},
   "outputs": [],
   "source": [
    "cgr.state.value_counts()"
   ]
  },
  {
   "cell_type": "code",
   "execution_count": null,
   "id": "126561b3",
   "metadata": {},
   "outputs": [],
   "source": [
    "cgr.year.value_counts()"
   ]
  },
  {
   "cell_type": "code",
   "execution_count": null,
   "id": "c854eb42",
   "metadata": {},
   "outputs": [],
   "source": [
    "cgr.price.value_counts()"
   ]
  },
  {
   "cell_type": "code",
   "execution_count": null,
   "id": "25c9683c",
   "metadata": {},
   "outputs": [],
   "source": [
    "cgr.Pop.value_counts()"
   ]
  },
  {
   "cell_type": "code",
   "execution_count": null,
   "id": "4befe012",
   "metadata": {},
   "outputs": [],
   "source": [
    "cgr.pop16.value_counts()"
   ]
  },
  {
   "cell_type": "code",
   "execution_count": null,
   "id": "20f445e1",
   "metadata": {},
   "outputs": [],
   "source": [
    "cgr.cpi.value_counts()"
   ]
  },
  {
   "cell_type": "code",
   "execution_count": null,
   "id": "de46d95b",
   "metadata": {},
   "outputs": [],
   "source": [
    "cgr.ndi.value_counts()"
   ]
  },
  {
   "cell_type": "code",
   "execution_count": null,
   "id": "b9b47393",
   "metadata": {},
   "outputs": [],
   "source": [
    "cgr.sales .value_counts()"
   ]
  },
  {
   "cell_type": "code",
   "execution_count": null,
   "id": "eac1dd08",
   "metadata": {},
   "outputs": [],
   "source": [
    "cgr.pimin.value_counts()"
   ]
  },
  {
   "cell_type": "code",
   "execution_count": null,
   "id": "0fa79346",
   "metadata": {},
   "outputs": [],
   "source": [
    "print(\"\\t\\t\\t\\t\\t\\tData Visualisation\")"
   ]
  },
  {
   "cell_type": "code",
   "execution_count": null,
   "id": "aba2e4bd",
   "metadata": {},
   "outputs": [],
   "source": [
    "# Univariate Histogram\n",
    "plt.figure(figsize=(8, 5))\n",
    "sns.histplot(cgr['price'], bins=20, kde=True)\n",
    "plt.title('Histogram of Price')\n",
    "plt.xlabel('price')\n",
    "plt.ylabel('Frequency')\n",
    "plt.show()"
   ]
  },
  {
   "cell_type": "code",
   "execution_count": null,
   "id": "c796a760",
   "metadata": {},
   "outputs": [],
   "source": [
    "# Univariate Histogram\n",
    "plt.figure(figsize=(8, 5))\n",
    "sns.histplot(cgr['sales'], bins=20, kde=True)\n",
    "plt.title('Histogram of Sales')\n",
    "plt.xlabel('sales')\n",
    "plt.ylabel('Frequency')\n",
    "plt.show()"
   ]
  },
  {
   "cell_type": "code",
   "execution_count": null,
   "id": "5e6f1f06",
   "metadata": {},
   "outputs": [],
   "source": [
    "# Univariate Box Plot\n",
    "plt.figure(figsize=(8, 5))\n",
    "sns.boxplot(x=cgr['price'])\n",
    "plt.title('Box Plot of Price')\n",
    "plt.xlabel('price')\n",
    "plt.show()"
   ]
  },
  {
   "cell_type": "code",
   "execution_count": null,
   "id": "b8c9799b",
   "metadata": {},
   "outputs": [],
   "source": [
    "# Univariate Box Plot\n",
    "plt.figure(figsize=(8, 5))\n",
    "sns.boxplot(x=cgr['sales'])\n",
    "plt.title('Box Plot of Sales')\n",
    "plt.xlabel('sales')\n",
    "plt.show()"
   ]
  },
  {
   "cell_type": "code",
   "execution_count": null,
   "id": "e4810d8d",
   "metadata": {},
   "outputs": [],
   "source": [
    "plt.scatter(x='price', y='sales', data=cgr)"
   ]
  },
  {
   "cell_type": "code",
   "execution_count": null,
   "id": "639b3d76",
   "metadata": {},
   "outputs": [],
   "source": [
    "sns.scatterplot(x='price', y='sales', data=cgr)"
   ]
  },
  {
   "cell_type": "code",
   "execution_count": null,
   "id": "8145aa0e",
   "metadata": {},
   "outputs": [],
   "source": [
    "# Bivariate Scatter Plot\n",
    "plt.figure(figsize=(10, 6))\n",
    "sns.scatterplot(x='price', y='sales', hue='year', data=cgr)\n",
    "plt.title('Scatter Plot of Prices vs Sales (Colored by Year)')\n",
    "plt.xlabel('price')\n",
    "plt.ylabel('sales')\n",
    "plt.legend(title='year')\n",
    "plt.show()"
   ]
  },
  {
   "cell_type": "code",
   "execution_count": null,
   "id": "976c286d",
   "metadata": {},
   "outputs": [],
   "source": [
    "print(\"\\t\\t\\t\\t\\tData Preprocessing\")"
   ]
  },
  {
   "cell_type": "code",
   "execution_count": null,
   "id": "cb088d4b",
   "metadata": {},
   "outputs": [],
   "source": [
    "cgr = cgr.drop(columns=['Num', 'state','pop16','pimin'])"
   ]
  },
  {
   "cell_type": "code",
   "execution_count": null,
   "id": "0463e8d4",
   "metadata": {},
   "outputs": [],
   "source": [
    "cgr.shape"
   ]
  },
  {
   "cell_type": "code",
   "execution_count": null,
   "id": "492c8a9b",
   "metadata": {},
   "outputs": [],
   "source": [
    "cgr = cgr.dropna()"
   ]
  },
  {
   "cell_type": "code",
   "execution_count": null,
   "id": "9c233448",
   "metadata": {},
   "outputs": [],
   "source": [
    "cgr.shape"
   ]
  },
  {
   "cell_type": "code",
   "execution_count": null,
   "id": "e5dd5a7f",
   "metadata": {},
   "outputs": [],
   "source": [
    "cgr_num = cgr.select_dtypes(include='number')\n",
    "cgr_num.head()"
   ]
  },
  {
   "cell_type": "code",
   "execution_count": null,
   "id": "a5b1e8c2",
   "metadata": {},
   "outputs": [],
   "source": [
    "Q1 = cgr_num.quantile(0.25) # Outliers\n",
    "Q3 = cgr_num.quantile(0.75)\n",
    "IQR = Q3 - Q1\n",
    "lower = Q1 - 1.5 * IQR\n",
    "upper= Q3 + 1.5 * IQR"
   ]
  },
  {
   "cell_type": "code",
   "execution_count": null,
   "id": "c0f35efc",
   "metadata": {},
   "outputs": [],
   "source": [
    "lower"
   ]
  },
  {
   "cell_type": "code",
   "execution_count": null,
   "id": "910cd46b",
   "metadata": {},
   "outputs": [],
   "source": [
    "upper"
   ]
  },
  {
   "cell_type": "code",
   "execution_count": null,
   "id": "addef5f6",
   "metadata": {},
   "outputs": [],
   "source": [
    "cgr = cgr[~((cgr_num < lower) | (cgr_num > upper)).any(axis=1)]"
   ]
  },
  {
   "cell_type": "code",
   "execution_count": null,
   "id": "8af959a1",
   "metadata": {},
   "outputs": [],
   "source": [
    "cgr.shape"
   ]
  },
  {
   "cell_type": "code",
   "execution_count": null,
   "id": "1489d40c",
   "metadata": {},
   "outputs": [],
   "source": [
    "sns.boxplot(x=cgr['price'])"
   ]
  },
  {
   "cell_type": "code",
   "execution_count": null,
   "id": "abe12209",
   "metadata": {},
   "outputs": [],
   "source": [
    "cgr_num = cgr.select_dtypes(include='number')\n",
    "cgr_num.head()"
   ]
  },
  {
   "cell_type": "code",
   "execution_count": null,
   "id": "b6e45a3b",
   "metadata": {},
   "outputs": [],
   "source": [
    "Q1 = cgr_num.quantile(0.25) # Outliers\n",
    "Q3 = cgr_num.quantile(0.75)\n",
    "IQR = Q3 - Q1\n",
    "lower = Q1 - 1.5 * IQR\n",
    "upper= Q3 + 1.5 * IQR"
   ]
  },
  {
   "cell_type": "code",
   "execution_count": null,
   "id": "291bbc92",
   "metadata": {},
   "outputs": [],
   "source": [
    "cgr = cgr[~((cgr_num < lower) | (cgr_num > upper)).any(axis=1)]"
   ]
  },
  {
   "cell_type": "code",
   "execution_count": null,
   "id": "e432a503",
   "metadata": {},
   "outputs": [],
   "source": [
    "cgr.shape"
   ]
  },
  {
   "cell_type": "code",
   "execution_count": null,
   "id": "1953129c",
   "metadata": {},
   "outputs": [],
   "source": [
    "sns.boxplot(x=cgr['sales'])"
   ]
  },
  {
   "cell_type": "code",
   "execution_count": null,
   "id": "581add10",
   "metadata": {},
   "outputs": [],
   "source": [
    "X = cgr.drop('price', axis=1)\n",
    "Y = cgr.price\n",
    "X.head()"
   ]
  },
  {
   "cell_type": "code",
   "execution_count": null,
   "id": "2c873052",
   "metadata": {},
   "outputs": [],
   "source": [
    "X_num = X.select_dtypes('number')\n",
    "X_num.head()"
   ]
  },
  {
   "cell_type": "code",
   "execution_count": null,
   "id": "21f5f078",
   "metadata": {},
   "outputs": [],
   "source": [
    "X_cat = X.select_dtypes('object')\n",
    "X_cat.head()"
   ]
  },
  {
   "cell_type": "code",
   "execution_count": null,
   "id": "da42b20e",
   "metadata": {},
   "outputs": [],
   "source": [
    "scaler = MinMaxScaler()\n",
    "X_num_scaled = scaler.fit_transform(X_num)"
   ]
  },
  {
   "cell_type": "code",
   "execution_count": null,
   "id": "2b442eee",
   "metadata": {},
   "outputs": [],
   "source": [
    "type(X_num_scaled)"
   ]
  },
  {
   "cell_type": "code",
   "execution_count": null,
   "id": "79e4d98d",
   "metadata": {},
   "outputs": [],
   "source": [
    "X_num_scaled = pd.DataFrame(X_num_scaled, columns=X_num.columns, index=X_num.index)"
   ]
  },
  {
   "cell_type": "code",
   "execution_count": null,
   "id": "1f60ba76",
   "metadata": {},
   "outputs": [],
   "source": [
    "X_num_scaled.describe()"
   ]
  },
  {
   "cell_type": "code",
   "execution_count": null,
   "id": "017f92d8",
   "metadata": {},
   "outputs": [],
   "source": [
    "X = pd.concat([X_num_scaled], axis=1)"
   ]
  },
  {
   "cell_type": "code",
   "execution_count": null,
   "id": "9af41c38",
   "metadata": {},
   "outputs": [],
   "source": [
    " X.shape, X_num_scaled.shape"
   ]
  },
  {
   "cell_type": "code",
   "execution_count": null,
   "id": "7cdd554f",
   "metadata": {},
   "outputs": [],
   "source": [
    "print(\"\\t\\t\\t\\t Checking for NAs and Shape Compatibility\")\n",
    "print(X.isnull().sum())\n",
    "print(Y.isnull().sum())\n",
    "print(X.shape)\n",
    "print(Y.shape)"
   ]
  },
  {
   "cell_type": "code",
   "execution_count": null,
   "id": "0322e1a7",
   "metadata": {},
   "outputs": [],
   "source": [
    "X.describe()"
   ]
  },
  {
   "cell_type": "code",
   "execution_count": null,
   "id": "7536324a",
   "metadata": {},
   "outputs": [],
   "source": [
    "X_train, X_test, Y_train, Y_test = train_test_split(X, Y, test_size=0.2, random_state=42)"
   ]
  },
  {
   "cell_type": "code",
   "execution_count": null,
   "id": "82e5f9b6",
   "metadata": {},
   "outputs": [],
   "source": [
    "print(\"\\t\\t\\t\\t\\t\\tTest-Train Split\")\n",
    "print(\"X Train:\",X_train.shape)\n",
    "print(\"X Test:\",X_test.shape)\n",
    "print(\"Y Train:\",Y_train.shape) \n",
    "print(\"Y Test:\",Y_test.shape)"
   ]
  },
  {
   "cell_type": "code",
   "execution_count": null,
   "id": "a1500668",
   "metadata": {},
   "outputs": [],
   "source": []
  },
  {
   "cell_type": "code",
   "execution_count": null,
   "id": "f6ec7a3f",
   "metadata": {},
   "outputs": [],
   "source": []
  },
  {
   "cell_type": "markdown",
   "id": "b09556ce",
   "metadata": {},
   "source": [
    "### Dataset 4: Music Genre"
   ]
  },
  {
   "cell_type": "markdown",
   "id": "0c9f596d",
   "metadata": {},
   "source": [
    "### To find the pattern between duration of music and energy associated with it"
   ]
  },
  {
   "cell_type": "code",
   "execution_count": null,
   "id": "3b57492e",
   "metadata": {},
   "outputs": [],
   "source": [
    "cd = pd.read_csv('music_genre.csv')\n",
    "cd.head()"
   ]
  },
  {
   "cell_type": "code",
   "execution_count": null,
   "id": "9e749bb2",
   "metadata": {},
   "outputs": [],
   "source": [
    "cd.tail()"
   ]
  },
  {
   "cell_type": "code",
   "execution_count": null,
   "id": "95701914",
   "metadata": {},
   "outputs": [],
   "source": [
    "cd.shape"
   ]
  },
  {
   "cell_type": "code",
   "execution_count": null,
   "id": "08cd342d",
   "metadata": {},
   "outputs": [],
   "source": [
    "cd.dtypes"
   ]
  },
  {
   "cell_type": "code",
   "execution_count": null,
   "id": "5361af3c",
   "metadata": {},
   "outputs": [],
   "source": [
    "print(cd.columns)"
   ]
  },
  {
   "cell_type": "code",
   "execution_count": null,
   "id": "dc9c8c12",
   "metadata": {},
   "outputs": [],
   "source": [
    "print(\"\\t\\t\\t\\t\\t Summary Statistics of Numeric Columns\")\n",
    "cd.describe()"
   ]
  },
  {
   "cell_type": "code",
   "execution_count": null,
   "id": "3b688740",
   "metadata": {},
   "outputs": [],
   "source": [
    "cd.instance_id.value_counts()"
   ]
  },
  {
   "cell_type": "code",
   "execution_count": null,
   "id": "766e938b",
   "metadata": {},
   "outputs": [],
   "source": [
    "cd.popularity .value_counts()"
   ]
  },
  {
   "cell_type": "code",
   "execution_count": null,
   "id": "9b60d98a",
   "metadata": {},
   "outputs": [],
   "source": [
    "cd.acousticness .value_counts()"
   ]
  },
  {
   "cell_type": "code",
   "execution_count": null,
   "id": "8b918c4a",
   "metadata": {},
   "outputs": [],
   "source": [
    "cd.danceability .value_counts()"
   ]
  },
  {
   "cell_type": "code",
   "execution_count": null,
   "id": "01a987c2",
   "metadata": {},
   "outputs": [],
   "source": [
    "cd.duration_ms  .value_counts()"
   ]
  },
  {
   "cell_type": "code",
   "execution_count": null,
   "id": "e7ef333e",
   "metadata": {},
   "outputs": [],
   "source": [
    "cd.energy .value_counts()"
   ]
  },
  {
   "cell_type": "code",
   "execution_count": null,
   "id": "103077f4",
   "metadata": {},
   "outputs": [],
   "source": [
    "cd.instrumentalness .value_counts()"
   ]
  },
  {
   "cell_type": "code",
   "execution_count": null,
   "id": "838f170f",
   "metadata": {},
   "outputs": [],
   "source": [
    "cd.liveness .value_counts()"
   ]
  },
  {
   "cell_type": "code",
   "execution_count": null,
   "id": "04acb26e",
   "metadata": {},
   "outputs": [],
   "source": [
    "cd.loudness .value_counts()"
   ]
  },
  {
   "cell_type": "code",
   "execution_count": null,
   "id": "7fdc3e5b",
   "metadata": {},
   "outputs": [],
   "source": [
    "cd.speechiness .value_counts()"
   ]
  },
  {
   "cell_type": "code",
   "execution_count": null,
   "id": "f2cc4fe3",
   "metadata": {},
   "outputs": [],
   "source": [
    "cd.valence .value_counts()"
   ]
  },
  {
   "cell_type": "code",
   "execution_count": null,
   "id": "d1672ba0",
   "metadata": {},
   "outputs": [],
   "source": [
    "print(\"\\t\\t\\t\\t\\t\\tData Visualisation\")"
   ]
  },
  {
   "cell_type": "code",
   "execution_count": null,
   "id": "de6b3ebf",
   "metadata": {},
   "outputs": [],
   "source": [
    "# Univariate Histogram\n",
    "plt.figure(figsize=(8, 5))\n",
    "sns.histplot(cd['duration_ms'], bins=20, kde=True)\n",
    "plt.title('Histogram of Duration in ms')\n",
    "plt.xlabel('duration_ms')\n",
    "plt.ylabel('Frequency')\n",
    "plt.show()"
   ]
  },
  {
   "cell_type": "code",
   "execution_count": null,
   "id": "0454c5bd",
   "metadata": {},
   "outputs": [],
   "source": [
    "# Univariate Histogram\n",
    "plt.figure(figsize=(8, 5))\n",
    "sns.histplot(cd['energy'], bins=20, kde=True)\n",
    "plt.title('Histogram of Energy')\n",
    "plt.xlabel('energy')\n",
    "plt.ylabel('Frequency')\n",
    "plt.show()"
   ]
  },
  {
   "cell_type": "code",
   "execution_count": null,
   "id": "b508ebde",
   "metadata": {},
   "outputs": [],
   "source": [
    "# Univariate Pie Chart\n",
    "plt.figure(figsize=(8, 5))\n",
    "cd['music_genre'].value_counts().plot(kind='pie', autopct='%1.1f%%', colors=sns.color_palette('pastel'))\n",
    "plt.title('Pie Chart of Music Genre')\n",
    "plt.ylabel('')\n",
    "plt.show()"
   ]
  },
  {
   "cell_type": "code",
   "execution_count": null,
   "id": "d0c43428",
   "metadata": {},
   "outputs": [],
   "source": [
    "# Univariate Box Plot\n",
    "plt.figure(figsize=(8, 5))\n",
    "sns.boxplot(x=cd['duration_ms'])\n",
    "plt.title('Box Plot of Duration in ms')\n",
    "plt.xlabel('duration_ms')\n",
    "plt.show()"
   ]
  },
  {
   "cell_type": "code",
   "execution_count": null,
   "id": "7f54f0ce",
   "metadata": {},
   "outputs": [],
   "source": [
    "# Univariate Box Plot\n",
    "plt.figure(figsize=(8, 5))\n",
    "sns.boxplot(x=cd['energy'])\n",
    "plt.title('Box Plot of Energy')\n",
    "plt.xlabel('energy')\n",
    "plt.show()"
   ]
  },
  {
   "cell_type": "code",
   "execution_count": null,
   "id": "40a2f34e",
   "metadata": {},
   "outputs": [],
   "source": [
    "sns.lineplot(x='duration_ms', y='energy', data=cd, errorbar=None)"
   ]
  },
  {
   "cell_type": "code",
   "execution_count": null,
   "id": "b78b425c",
   "metadata": {},
   "outputs": [],
   "source": [
    "sns.scatterplot(x='duration_ms', y='energy', data=cd)"
   ]
  },
  {
   "cell_type": "code",
   "execution_count": null,
   "id": "314ecee3",
   "metadata": {},
   "outputs": [],
   "source": [
    "# Bivariate Scatter Plot\n",
    "plt.figure(figsize=(10, 6))\n",
    "sns.scatterplot(x='duration_ms', y='energy', hue='music_genre', data=cd)\n",
    "plt.title('Scatter Plot of Duration in ms vs Energy (colored by Music Genre)')\n",
    "plt.xlabel('duration_ms')\n",
    "plt.ylabel('enegy')\n",
    "plt.legend(title='music_genre')\n",
    "plt.show()"
   ]
  },
  {
   "cell_type": "code",
   "execution_count": null,
   "id": "bfda319f",
   "metadata": {},
   "outputs": [],
   "source": [
    "print(\"\\t\\t\\t\\t\\t\\tData Preprocessing\")"
   ]
  },
  {
   "cell_type": "code",
   "execution_count": null,
   "id": "9b2f95a0",
   "metadata": {},
   "outputs": [],
   "source": [
    "cd = cd.drop(columns=['instance_id', 'acousticness','danceability','instrumentalness','key','liveness','loudness','mode','speechiness','tempo','obtained_date','valence','artist_name','track_name'])"
   ]
  },
  {
   "cell_type": "code",
   "execution_count": null,
   "id": "ddbd591a",
   "metadata": {},
   "outputs": [],
   "source": [
    "cd.shape"
   ]
  },
  {
   "cell_type": "code",
   "execution_count": null,
   "id": "a72a153c",
   "metadata": {},
   "outputs": [],
   "source": [
    "cd = cd.dropna()\n",
    "cd.shape"
   ]
  },
  {
   "cell_type": "code",
   "execution_count": null,
   "id": "57f034f0",
   "metadata": {},
   "outputs": [],
   "source": [
    "cd_num = cd.select_dtypes(include='number')\n",
    "cd_num.head()"
   ]
  },
  {
   "cell_type": "code",
   "execution_count": null,
   "id": "d72c57db",
   "metadata": {},
   "outputs": [],
   "source": [
    "Q1 = cd_num.quantile(0.25)\n",
    "Q3 = cd_num.quantile(0.75)\n",
    "IQR = Q3 - Q1\n",
    "lower_bound = Q1 - 1.5 * IQR\n",
    "upper_bound = Q3 + 1.5 * IQR"
   ]
  },
  {
   "cell_type": "code",
   "execution_count": null,
   "id": "a716cfa8",
   "metadata": {},
   "outputs": [],
   "source": [
    "lower_bound"
   ]
  },
  {
   "cell_type": "code",
   "execution_count": null,
   "id": "0486bb3e",
   "metadata": {},
   "outputs": [],
   "source": [
    "upper_bound"
   ]
  },
  {
   "cell_type": "code",
   "execution_count": null,
   "id": "d9797a9b",
   "metadata": {},
   "outputs": [],
   "source": [
    "cd = cd[~((cd_num < lower_bound) | (cd_num > upper_bound)).any(axis=1)]"
   ]
  },
  {
   "cell_type": "code",
   "execution_count": null,
   "id": "9d2a5f82",
   "metadata": {},
   "outputs": [],
   "source": [
    "cd.shape"
   ]
  },
  {
   "cell_type": "code",
   "execution_count": null,
   "id": "c78c9262",
   "metadata": {},
   "outputs": [],
   "source": [
    "sns.boxplot(x=cd['duration_ms'])"
   ]
  },
  {
   "cell_type": "code",
   "execution_count": null,
   "id": "380e9f61",
   "metadata": {},
   "outputs": [],
   "source": [
    "cd_num = cd.select_dtypes(include='number')\n",
    "cd_num.head()"
   ]
  },
  {
   "cell_type": "code",
   "execution_count": null,
   "id": "3ade1f87",
   "metadata": {},
   "outputs": [],
   "source": [
    "Q1 = cd_num.quantile(0.25)\n",
    "Q3 = cd_num.quantile(0.75)\n",
    "IQR = Q3 - Q1\n",
    "lower_bound = Q1 - 1.5 * IQR\n",
    "upper_bound = Q3 + 1.5 * IQR"
   ]
  },
  {
   "cell_type": "code",
   "execution_count": null,
   "id": "9a0ac27a",
   "metadata": {},
   "outputs": [],
   "source": [
    "lower_bound"
   ]
  },
  {
   "cell_type": "code",
   "execution_count": null,
   "id": "4e260d3e",
   "metadata": {},
   "outputs": [],
   "source": [
    "upper_bound"
   ]
  },
  {
   "cell_type": "code",
   "execution_count": null,
   "id": "6647cd72",
   "metadata": {},
   "outputs": [],
   "source": [
    "cd = cd[~((cd_num < lower_bound) | (cd_num > upper_bound)).any(axis=1)]"
   ]
  },
  {
   "cell_type": "code",
   "execution_count": null,
   "id": "cb14f1df",
   "metadata": {},
   "outputs": [],
   "source": [
    "cd.shape"
   ]
  },
  {
   "cell_type": "code",
   "execution_count": null,
   "id": "4ea87621",
   "metadata": {},
   "outputs": [],
   "source": [
    "sns.boxplot(x=cd['duration_ms'])"
   ]
  },
  {
   "cell_type": "code",
   "execution_count": null,
   "id": "2b8cea4f",
   "metadata": {},
   "outputs": [],
   "source": [
    "cd_num = cd.select_dtypes(include='number')\n",
    "cd_num.head()"
   ]
  },
  {
   "cell_type": "code",
   "execution_count": null,
   "id": "637888bc",
   "metadata": {},
   "outputs": [],
   "source": [
    "Q1 = cd_num.quantile(0.25)\n",
    "Q3 = cd_num.quantile(0.75)\n",
    "IQR = Q3 - Q1\n",
    "lower_bound = Q1 - 1.5 * IQR\n",
    "upper_bound = Q3 + 1.5 * IQR"
   ]
  },
  {
   "cell_type": "code",
   "execution_count": null,
   "id": "0843fc51",
   "metadata": {},
   "outputs": [],
   "source": [
    "lower_bound"
   ]
  },
  {
   "cell_type": "code",
   "execution_count": null,
   "id": "b27cd11a",
   "metadata": {},
   "outputs": [],
   "source": [
    "upper_bound"
   ]
  },
  {
   "cell_type": "code",
   "execution_count": null,
   "id": "4e246695",
   "metadata": {},
   "outputs": [],
   "source": [
    "cd = cd[~((cd_num < lower_bound) | (cd_num > upper_bound)).any(axis=1)]"
   ]
  },
  {
   "cell_type": "code",
   "execution_count": null,
   "id": "3eb90d65",
   "metadata": {},
   "outputs": [],
   "source": [
    "cd.shape"
   ]
  },
  {
   "cell_type": "code",
   "execution_count": null,
   "id": "4494c6a9",
   "metadata": {},
   "outputs": [],
   "source": [
    "sns.boxplot(x=cd['duration_ms'])"
   ]
  },
  {
   "cell_type": "code",
   "execution_count": null,
   "id": "40b02da3",
   "metadata": {},
   "outputs": [],
   "source": [
    "cd_num = cd.select_dtypes(include='number')\n",
    "cd_num.head()"
   ]
  },
  {
   "cell_type": "code",
   "execution_count": null,
   "id": "c134b6c9",
   "metadata": {},
   "outputs": [],
   "source": [
    "Q1 = cd_num.quantile(0.25)\n",
    "Q3 = cd_num.quantile(0.75)\n",
    "IQR = Q3 - Q1\n",
    "lower_bound = Q1 - 1.5 * IQR\n",
    "upper_bound = Q3 + 1.5 * IQR"
   ]
  },
  {
   "cell_type": "code",
   "execution_count": null,
   "id": "e44f9c35",
   "metadata": {},
   "outputs": [],
   "source": [
    "cd = cd[~((cd_num < lower_bound) | (cd_num > upper_bound)).any(axis=1)]"
   ]
  },
  {
   "cell_type": "code",
   "execution_count": null,
   "id": "c2d4a0c2",
   "metadata": {},
   "outputs": [],
   "source": [
    "cd.shape"
   ]
  },
  {
   "cell_type": "code",
   "execution_count": null,
   "id": "3cd0cb3c",
   "metadata": {},
   "outputs": [],
   "source": [
    "sns.boxplot(x=cd['duration_ms'])"
   ]
  },
  {
   "cell_type": "code",
   "execution_count": null,
   "id": "01e134c0",
   "metadata": {},
   "outputs": [],
   "source": [
    "X = cd.drop('duration_ms', axis=1)\n",
    "Y = cd.duration_ms\n",
    "X.head()"
   ]
  },
  {
   "cell_type": "code",
   "execution_count": null,
   "id": "08c448b8",
   "metadata": {},
   "outputs": [],
   "source": [
    "X_num = X.select_dtypes('number')\n",
    "X_num.head()"
   ]
  },
  {
   "cell_type": "code",
   "execution_count": null,
   "id": "fbcb46b0",
   "metadata": {},
   "outputs": [],
   "source": [
    "X_cat = X.select_dtypes('object')\n",
    "X_cat.head()"
   ]
  },
  {
   "cell_type": "code",
   "execution_count": null,
   "id": "7210ca5e",
   "metadata": {},
   "outputs": [],
   "source": [
    "scaler = MinMaxScaler()\n",
    "X_num_scaled = scaler.fit_transform(X_num)"
   ]
  },
  {
   "cell_type": "code",
   "execution_count": null,
   "id": "fde157c5",
   "metadata": {},
   "outputs": [],
   "source": [
    "type(X_num_scaled)"
   ]
  },
  {
   "cell_type": "code",
   "execution_count": null,
   "id": "61f2ab1d",
   "metadata": {},
   "outputs": [],
   "source": [
    "X_num_scaled = pd.DataFrame(X_num_scaled, columns=X_num.columns, index=X_num.index)"
   ]
  },
  {
   "cell_type": "code",
   "execution_count": null,
   "id": "7ccb7bee",
   "metadata": {},
   "outputs": [],
   "source": [
    "X_num_scaled.describe()"
   ]
  },
  {
   "cell_type": "code",
   "execution_count": null,
   "id": "3b05639f",
   "metadata": {},
   "outputs": [],
   "source": [
    "X_cat_encoded = pd.get_dummies(X_cat, drop_first=False, dtype=int)"
   ]
  },
  {
   "cell_type": "code",
   "execution_count": null,
   "id": "4582548e",
   "metadata": {},
   "outputs": [],
   "source": [
    "X_cat.describe()"
   ]
  },
  {
   "cell_type": "code",
   "execution_count": null,
   "id": "0a9614ee",
   "metadata": {},
   "outputs": [],
   "source": [
    "X = pd.concat([X_num_scaled, X_cat_encoded], axis=1)"
   ]
  },
  {
   "cell_type": "code",
   "execution_count": null,
   "id": "74a2f8f8",
   "metadata": {},
   "outputs": [],
   "source": [
    " X.shape, X_num_scaled.shape, X_cat_encoded.shape"
   ]
  },
  {
   "cell_type": "code",
   "execution_count": null,
   "id": "3df7b546",
   "metadata": {},
   "outputs": [],
   "source": [
    "print(\"\\t\\t\\t\\t\\t Checking for NAs and Shape Compatibility\")\n",
    "print(X.isnull().sum())\n",
    "print(Y.isnull().sum())\n",
    "print(X.shape)\n",
    "print(Y.shape)"
   ]
  },
  {
   "cell_type": "code",
   "execution_count": null,
   "id": "808621bd",
   "metadata": {},
   "outputs": [],
   "source": [
    "X.describe()"
   ]
  },
  {
   "cell_type": "code",
   "execution_count": null,
   "id": "b6c7ed39",
   "metadata": {},
   "outputs": [],
   "source": [
    "X_train, X_test, Y_train, Y_test = train_test_split(X, Y, test_size=0.2, random_state=42)"
   ]
  },
  {
   "cell_type": "code",
   "execution_count": null,
   "id": "29be360c",
   "metadata": {},
   "outputs": [],
   "source": [
    "print(\"\\t\\t\\t\\t\\t\\tTest-Train Split\")\n",
    "print(\"X Train:\",X_train.shape)\n",
    "print(\"X Test:\",X_test.shape)\n",
    "print(\"Y Train:\",Y_train.shape) \n",
    "print(\"Y Test:\",Y_test.shape)"
   ]
  },
  {
   "cell_type": "code",
   "execution_count": null,
   "id": "21ded75e",
   "metadata": {},
   "outputs": [],
   "source": []
  },
  {
   "cell_type": "code",
   "execution_count": null,
   "id": "25f313b8",
   "metadata": {},
   "outputs": [],
   "source": []
  },
  {
   "cell_type": "markdown",
   "id": "5acc80c5",
   "metadata": {},
   "source": [
    "### Dataset 5: Foreign Brand Cars"
   ]
  },
  {
   "cell_type": "markdown",
   "id": "8ead5325",
   "metadata": {},
   "source": [
    "### To find the pattern between MSRP (MANUFACTURER'S SUGGESTED RETAIL PRICE) and Engine Horsepower"
   ]
  },
  {
   "cell_type": "code",
   "execution_count": null,
   "id": "2d3bdeab",
   "metadata": {},
   "outputs": [],
   "source": [
    "cr = pd.read_csv('Cars.csv')\n",
    "cr.head()"
   ]
  },
  {
   "cell_type": "code",
   "execution_count": null,
   "id": "a1738aa7",
   "metadata": {},
   "outputs": [],
   "source": [
    "cr.tail()"
   ]
  },
  {
   "cell_type": "code",
   "execution_count": null,
   "id": "f6446c5c",
   "metadata": {},
   "outputs": [],
   "source": [
    "cr.shape"
   ]
  },
  {
   "cell_type": "code",
   "execution_count": null,
   "id": "0fabb1fc",
   "metadata": {},
   "outputs": [],
   "source": [
    "cr.dtypes"
   ]
  },
  {
   "cell_type": "code",
   "execution_count": null,
   "id": "39a6f927",
   "metadata": {},
   "outputs": [],
   "source": [
    "print(cr.columns)"
   ]
  },
  {
   "cell_type": "code",
   "execution_count": null,
   "id": "b79d2e0c",
   "metadata": {},
   "outputs": [],
   "source": [
    "print(\"\\t\\t\\t\\t\\t Summary Statistics of Numeric Columns\")\n",
    "cr.describe()"
   ]
  },
  {
   "cell_type": "code",
   "execution_count": null,
   "id": "ce6a7dbc",
   "metadata": {},
   "outputs": [],
   "source": [
    "cr.Year.value_counts()"
   ]
  },
  {
   "cell_type": "code",
   "execution_count": null,
   "id": "9fa2a6d8",
   "metadata": {},
   "outputs": [],
   "source": [
    "cr.EngineHP.value_counts()"
   ]
  },
  {
   "cell_type": "code",
   "execution_count": null,
   "id": "4b225370",
   "metadata": {},
   "outputs": [],
   "source": [
    "cr.Engine_Cylinders.value_counts()"
   ]
  },
  {
   "cell_type": "code",
   "execution_count": null,
   "id": "9f4076fc",
   "metadata": {},
   "outputs": [],
   "source": [
    "cr.Number_of_Doors.value_counts()"
   ]
  },
  {
   "cell_type": "code",
   "execution_count": null,
   "id": "6f3e4773",
   "metadata": {},
   "outputs": [],
   "source": [
    "cr.highway_MPG.value_counts()"
   ]
  },
  {
   "cell_type": "code",
   "execution_count": null,
   "id": "604c5add",
   "metadata": {},
   "outputs": [],
   "source": [
    "cr.city_mpg.value_counts()"
   ]
  },
  {
   "cell_type": "code",
   "execution_count": null,
   "id": "eaf910ac",
   "metadata": {},
   "outputs": [],
   "source": [
    "cr.Popularity .value_counts()"
   ]
  },
  {
   "cell_type": "code",
   "execution_count": null,
   "id": "3a30da81",
   "metadata": {},
   "outputs": [],
   "source": [
    "cr.MSRP .value_counts()"
   ]
  },
  {
   "cell_type": "code",
   "execution_count": null,
   "id": "e8c16037",
   "metadata": {},
   "outputs": [],
   "source": [
    "# Univariate Histogram\n",
    "plt.figure(figsize=(8, 5))\n",
    "sns.histplot(cr['EngineHP'], bins=20, kde=True)\n",
    "plt.title('Histogram of Engine HP')\n",
    "plt.xlabel('EngineHP')\n",
    "plt.ylabel('Frequency')\n",
    "plt.show()"
   ]
  },
  {
   "cell_type": "code",
   "execution_count": null,
   "id": "ec2e1ca4",
   "metadata": {},
   "outputs": [],
   "source": [
    "# Univariate Histogram\n",
    "plt.figure(figsize=(8, 5))\n",
    "sns.histplot(cr['MSRP'], bins=20, kde=True)\n",
    "plt.title('Histogram of MSRP')\n",
    "plt.xlabel('MSRP')\n",
    "plt.ylabel('Frequency')\n",
    "plt.show()"
   ]
  },
  {
   "cell_type": "code",
   "execution_count": null,
   "id": "0a4f7df9",
   "metadata": {},
   "outputs": [],
   "source": [
    "# Univariate Pie Chart\n",
    "plt.figure(figsize=(10,8))\n",
    "cr['Driven_Wheels'].value_counts().plot(kind='pie', autopct='%1.1f%%', colors=sns.color_palette('pastel'))\n",
    "plt.title('Pie Chart of Driven Wheel Type')\n",
    "plt.ylabel('')\n",
    "plt.show()"
   ]
  },
  {
   "cell_type": "code",
   "execution_count": null,
   "id": "0ab93c87",
   "metadata": {},
   "outputs": [],
   "source": [
    "# Univariate Box Plot\n",
    "plt.figure(figsize=(8, 5))\n",
    "sns.boxplot(x=cr['EngineHP'])\n",
    "plt.title('Box Plot of Engine HP')\n",
    "plt.xlabel('EngineHP')\n",
    "plt.show()"
   ]
  },
  {
   "cell_type": "code",
   "execution_count": null,
   "id": "4310c59b",
   "metadata": {},
   "outputs": [],
   "source": [
    "# Univariate Box Plot\n",
    "plt.figure(figsize=(8, 5))\n",
    "sns.boxplot(x=cr['MSRP'])\n",
    "plt.title('Box Plot of MSRP')\n",
    "plt.xlabel('MSRP')\n",
    "plt.show()"
   ]
  },
  {
   "cell_type": "code",
   "execution_count": null,
   "id": "b72f8b2c",
   "metadata": {},
   "outputs": [],
   "source": [
    "sns.scatterplot(x='EngineHP', y='MSRP', data=cr)"
   ]
  },
  {
   "cell_type": "code",
   "execution_count": null,
   "id": "30d1f213",
   "metadata": {},
   "outputs": [],
   "source": [
    "# Bivariate Scatter Plot\n",
    "plt.figure(figsize=(10,8))\n",
    "sns.scatterplot(x='EngineHP', y='MSRP', hue='Driven_Wheels', data=cr)\n",
    "plt.title('Scatter Plot of Engine HP vs MSRP (colored by Driven Wheel Type)')\n",
    "plt.xlabel('EngineHP')\n",
    "plt.ylabel('MSRP')\n",
    "plt.legend(title='Driven_Wheels')\n",
    "plt.show()"
   ]
  },
  {
   "cell_type": "code",
   "execution_count": null,
   "id": "6143f388",
   "metadata": {},
   "outputs": [],
   "source": [
    "print(\"\\t\\t\\t\\t\\tData Preprocessing\")"
   ]
  },
  {
   "cell_type": "code",
   "execution_count": null,
   "id": "b6fc3352",
   "metadata": {},
   "outputs": [],
   "source": [
    "cr = cr.drop(columns=['Model','Year','Engine_Fuel_Type','Engine_Cylinders','Transmission_Type','Number_of_Doors','Market_Category','Vehicle_Size','Popularity'])\n",
    "cr.shape # If any problems occur, please go to the top of current data set and run below."
   ]
  },
  {
   "cell_type": "code",
   "execution_count": null,
   "id": "e99b8729",
   "metadata": {},
   "outputs": [],
   "source": [
    "cr = cr.dropna()\n",
    "cr.shape"
   ]
  },
  {
   "cell_type": "code",
   "execution_count": null,
   "id": "903de1fb",
   "metadata": {},
   "outputs": [],
   "source": [
    "cr_num = cr.select_dtypes(include='number')\n",
    "cr_num.head()"
   ]
  },
  {
   "cell_type": "code",
   "execution_count": null,
   "id": "fd0ad919",
   "metadata": {},
   "outputs": [],
   "source": [
    "Q1 = cr_num.quantile(0.25) # Outliers\n",
    "Q3 = cr_num.quantile(0.75)\n",
    "IQR = Q3 - Q1\n",
    "lower_bound = Q1 - 1.5 * IQR\n",
    "upper_bound = Q3 + 1.5 * IQR"
   ]
  },
  {
   "cell_type": "code",
   "execution_count": null,
   "id": "2de2ff96",
   "metadata": {},
   "outputs": [],
   "source": [
    "lower_bound"
   ]
  },
  {
   "cell_type": "code",
   "execution_count": null,
   "id": "fe5a1164",
   "metadata": {},
   "outputs": [],
   "source": [
    "upper_bound"
   ]
  },
  {
   "cell_type": "code",
   "execution_count": null,
   "id": "fc8a4570",
   "metadata": {},
   "outputs": [],
   "source": [
    "cr = cr[~((cr_num < lower_bound) | (cr_num > upper_bound)).any(axis=1)]"
   ]
  },
  {
   "cell_type": "code",
   "execution_count": null,
   "id": "527b1ed4",
   "metadata": {},
   "outputs": [],
   "source": [
    "cr.shape"
   ]
  },
  {
   "cell_type": "code",
   "execution_count": null,
   "id": "7bc5009a",
   "metadata": {},
   "outputs": [],
   "source": [
    "sns.boxplot(x=cr['MSRP'])"
   ]
  },
  {
   "cell_type": "code",
   "execution_count": null,
   "id": "0a59683c",
   "metadata": {
    "scrolled": false
   },
   "outputs": [],
   "source": [
    "cr_num = cr.select_dtypes(include='number')\n",
    "cr_num.head()"
   ]
  },
  {
   "cell_type": "code",
   "execution_count": null,
   "id": "63d2f05c",
   "metadata": {},
   "outputs": [],
   "source": [
    "Q1 = cr_num.quantile(0.25) # Outliers\n",
    "Q3 = cr_num.quantile(0.75)\n",
    "IQR = Q3 - Q1\n",
    "lower_bound = Q1 - 1.5 * IQR\n",
    "upper_bound = Q3 + 1.5 * IQR"
   ]
  },
  {
   "cell_type": "code",
   "execution_count": null,
   "id": "b974f356",
   "metadata": {},
   "outputs": [],
   "source": [
    "cr = cr[~((cr_num < lower_bound) | (cr_num > upper_bound)).any(axis=1)]"
   ]
  },
  {
   "cell_type": "code",
   "execution_count": null,
   "id": "d2e0ff41",
   "metadata": {},
   "outputs": [],
   "source": [
    "cr.shape"
   ]
  },
  {
   "cell_type": "code",
   "execution_count": null,
   "id": "7a0f3238",
   "metadata": {},
   "outputs": [],
   "source": [
    "sns.boxplot(x=cr['MSRP'])"
   ]
  },
  {
   "cell_type": "code",
   "execution_count": null,
   "id": "deffe2ba",
   "metadata": {},
   "outputs": [],
   "source": [
    "cr_num = cr.select_dtypes(include='number')\n",
    "cr_num.head()"
   ]
  },
  {
   "cell_type": "code",
   "execution_count": null,
   "id": "fef09542",
   "metadata": {},
   "outputs": [],
   "source": [
    "Q1 = cr_num.quantile(0.25) # Outliers\n",
    "Q3 = cr_num.quantile(0.75)\n",
    "IQR = Q3 - Q1\n",
    "lower_bound = Q1 - 1.5 * IQR\n",
    "upper_bound = Q3 + 1.5 * IQR"
   ]
  },
  {
   "cell_type": "code",
   "execution_count": null,
   "id": "5ce78e17",
   "metadata": {},
   "outputs": [],
   "source": [
    "cr = cr[~((cr_num < lower_bound) | (cr_num > upper_bound)).any(axis=1)]"
   ]
  },
  {
   "cell_type": "code",
   "execution_count": null,
   "id": "5d08bf24",
   "metadata": {},
   "outputs": [],
   "source": [
    "cr.shape"
   ]
  },
  {
   "cell_type": "code",
   "execution_count": null,
   "id": "dd8c1be4",
   "metadata": {},
   "outputs": [],
   "source": [
    "sns.boxplot(x=cr['MSRP'])"
   ]
  },
  {
   "cell_type": "code",
   "execution_count": null,
   "id": "0447aaf8",
   "metadata": {},
   "outputs": [],
   "source": [
    "cr_num = cr.select_dtypes(include='number')\n",
    "cr_num.head()"
   ]
  },
  {
   "cell_type": "code",
   "execution_count": null,
   "id": "147148e9",
   "metadata": {},
   "outputs": [],
   "source": [
    "Q1 = cr_num.quantile(0.25) # Outliers\n",
    "Q3 = cr_num.quantile(0.75)\n",
    "IQR = Q3 - Q1\n",
    "lower_bound = Q1 - 1.5 * IQR\n",
    "upper_bound = Q3 + 1.5 * IQR"
   ]
  },
  {
   "cell_type": "code",
   "execution_count": null,
   "id": "15d36656",
   "metadata": {},
   "outputs": [],
   "source": [
    "cr = cr[~((cr_num < lower_bound) | (cr_num > upper_bound)).any(axis=1)]"
   ]
  },
  {
   "cell_type": "code",
   "execution_count": null,
   "id": "a3255b1a",
   "metadata": {},
   "outputs": [],
   "source": [
    "cr.shape"
   ]
  },
  {
   "cell_type": "code",
   "execution_count": null,
   "id": "9b1bd7d0",
   "metadata": {},
   "outputs": [],
   "source": [
    "sns.boxplot(x=cr['MSRP'])"
   ]
  },
  {
   "cell_type": "code",
   "execution_count": null,
   "id": "9ecbfaae",
   "metadata": {},
   "outputs": [],
   "source": [
    "X = cr.drop('MSRP', axis=1)\n",
    "y = cr.MSRP\n",
    "X.head()"
   ]
  },
  {
   "cell_type": "code",
   "execution_count": null,
   "id": "245a6a5d",
   "metadata": {},
   "outputs": [],
   "source": [
    "X_num = X.select_dtypes('number')\n",
    "X_num.head()"
   ]
  },
  {
   "cell_type": "code",
   "execution_count": null,
   "id": "2a108a3d",
   "metadata": {},
   "outputs": [],
   "source": [
    "X_cat = X.select_dtypes('object')\n",
    "X_cat.head()"
   ]
  },
  {
   "cell_type": "code",
   "execution_count": null,
   "id": "4d4a2b58",
   "metadata": {},
   "outputs": [],
   "source": [
    "scaler = MinMaxScaler()\n",
    "X_num_scaled = scaler.fit_transform(X_num)"
   ]
  },
  {
   "cell_type": "code",
   "execution_count": null,
   "id": "b0223db0",
   "metadata": {},
   "outputs": [],
   "source": [
    "type(X_num_scaled)"
   ]
  },
  {
   "cell_type": "code",
   "execution_count": null,
   "id": "b77d183f",
   "metadata": {},
   "outputs": [],
   "source": [
    "X_num_scaled = pd.DataFrame(X_num_scaled, columns=X_num.columns, index=X_num.index)"
   ]
  },
  {
   "cell_type": "code",
   "execution_count": null,
   "id": "9b01a9c2",
   "metadata": {},
   "outputs": [],
   "source": [
    "X_num_scaled.describe()"
   ]
  },
  {
   "cell_type": "code",
   "execution_count": null,
   "id": "34cc93df",
   "metadata": {},
   "outputs": [],
   "source": [
    "X_cat_encoded = pd.get_dummies(X_cat, drop_first=False, dtype=int)"
   ]
  },
  {
   "cell_type": "code",
   "execution_count": null,
   "id": "44d52c7b",
   "metadata": {},
   "outputs": [],
   "source": [
    "X = pd.concat([X_num_scaled, X_cat_encoded], axis=1)"
   ]
  },
  {
   "cell_type": "code",
   "execution_count": null,
   "id": "1799efdd",
   "metadata": {},
   "outputs": [],
   "source": [
    " X.shape, X_num_scaled.shape, X_cat_encoded.shape"
   ]
  },
  {
   "cell_type": "code",
   "execution_count": null,
   "id": "780823c6",
   "metadata": {},
   "outputs": [],
   "source": [
    "print(\"\\t\\t\\t\\t\\t Checking for NAs and Shape Compatibility\")\n",
    "print(X.isnull().sum())\n",
    "print(y.isnull().sum())\n",
    "print(X.shape)\n",
    "print(y.shape)"
   ]
  },
  {
   "cell_type": "code",
   "execution_count": null,
   "id": "ea97da9b",
   "metadata": {},
   "outputs": [],
   "source": [
    "X.describe()"
   ]
  },
  {
   "cell_type": "code",
   "execution_count": null,
   "id": "4e3d268c",
   "metadata": {},
   "outputs": [],
   "source": [
    "X_train, X_test, y_train, y_test = train_test_split(X, y, test_size=0.2, random_state=42)"
   ]
  },
  {
   "cell_type": "code",
   "execution_count": null,
   "id": "d67269a9",
   "metadata": {},
   "outputs": [],
   "source": [
    "print(\"\\t\\t\\t\\t\\t\\tTest-Train Split\")\n",
    "print(\"X Train:\",X_train.shape)\n",
    "print(\"X Test:\",X_test.shape)\n",
    "print(\"y Train:\",y_train.shape) \n",
    "print(\"y Test:\",y_test.shape)"
   ]
  },
  {
   "cell_type": "code",
   "execution_count": null,
   "id": "af73ceb1",
   "metadata": {},
   "outputs": [],
   "source": []
  },
  {
   "cell_type": "code",
   "execution_count": null,
   "id": "807830dc",
   "metadata": {},
   "outputs": [],
   "source": []
  }
 ],
 "metadata": {
  "kernelspec": {
   "display_name": "Python 3 (ipykernel)",
   "language": "python",
   "name": "python3"
  },
  "language_info": {
   "codemirror_mode": {
    "name": "ipython",
    "version": 3
   },
   "file_extension": ".py",
   "mimetype": "text/x-python",
   "name": "python",
   "nbconvert_exporter": "python",
   "pygments_lexer": "ipython3",
   "version": "3.11.3"
  }
 },
 "nbformat": 4,
 "nbformat_minor": 5
}
